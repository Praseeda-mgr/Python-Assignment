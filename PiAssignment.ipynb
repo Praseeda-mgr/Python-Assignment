{
 "cells": [
  {
   "cell_type": "code",
   "execution_count": 46,
   "id": "fd455fa2-da74-42bd-ab6a-7be13c906337",
   "metadata": {},
   "outputs": [
    {
     "name": "stdout",
     "output_type": "stream",
     "text": [
      "55\n"
     ]
    }
   ],
   "source": [
    "#Create a list of the first 10 positive integers. Write a for loop that calculates and prints the sum of all numbers in the list.\n",
    "x=[1,2,3,4,5,6,7,8,9,10]\n",
    "sum=0\n",
    "for i in x:\n",
    "    sum+=i\n",
    "print(sum)\n"
   ]
  },
  {
   "cell_type": "code",
   "execution_count": 10,
   "id": "e947c79a-ffdb-4740-99c5-97eee56ce4e9",
   "metadata": {},
   "outputs": [
    {
     "name": "stdout",
     "output_type": "stream",
     "text": [
      "1.Endgame\n",
      "2.Infinity War\n",
      "3.Avatar\n",
      "4.Titanic\n",
      "5.Inception\n"
     ]
    }
   ],
   "source": [
    "#Create a list of your five favorite movies. Write a for loop that prints each movie along with its position in the list (e.g., \"1. Inception\").\n",
    "x=['Endgame', 'Infinity War', 'Avatar', 'Titanic', 'Inception']\n",
    "count=0\n",
    "for i in x:\n",
    "    count+=1\n",
    "    print(f\"{count}.{i}\")"
   ]
  },
  {
   "cell_type": "code",
   "execution_count": 1,
   "id": "303cd4b4-3798-48b0-8981-375768f74839",
   "metadata": {},
   "outputs": [
    {
     "name": "stdout",
     "output_type": "stream",
     "text": [
      "[2.2, 4.4, 6.6]\n"
     ]
    }
   ],
   "source": [
    "#Given a list of strings representing decimal numbers (e.g., ['1.1', '2.2', '3.3']), write a for loop that converts each string to a float, doubles the value, and prints the result.\n",
    "str=['1.1','2.2', '3.3']\n",
    "float_numbers=[]\n",
    "for i in str:\n",
    "    flt=float(i)\n",
    "    float_numbers.append(flt*2)\n",
    "print(float_numbers)"
   ]
  },
  {
   "cell_type": "code",
   "execution_count": 25,
   "id": "1f4efe04-0e23-4e11-8325-a908f3b74710",
   "metadata": {},
   "outputs": [
    {
     "name": "stdout",
     "output_type": "stream",
     "text": [
      "['1', '2', '3', '4', '5', '6', '7', '8', '9', '10', '11', '12', '13', '14', '15', '16', '17', '18', '19', '20']\n"
     ]
    }
   ],
   "source": [
    "#Create a list of numbers from 1 to 20. Write a for loop that iterates through the list, converts each number to a string, and creates a new list with these string values. Print the new list.\n",
    "\n",
    "numbers=[1,2,3,4,5,6,7,8,9,10,11,12,13,14,15,16,17,18,19,20]\n",
    "string=[]\n",
    "for i in numbers:\n",
    "    string.append(str(i))\n",
    "print(string)"
   ]
  },
  {
   "cell_type": "code",
   "execution_count": 5,
   "id": "a0220d79-fbad-403d-87f0-86b4ff646018",
   "metadata": {},
   "outputs": [
    {
     "name": "stdout",
     "output_type": "stream",
     "text": [
      "aayush\n",
      "aditya\n"
     ]
    }
   ],
   "source": [
    "#⁠WAP that asks 10 user with their name and store them in a list. Print the name of only those users whose name starts with ‘a’ or ‘A’\n",
    "\n",
    "user_name=['praseeda','bianca','aayush','aditya','ram','sita']\n",
    "for i in user_name:\n",
    "    if(i[0]=='A' or i[0]=='a'):\n",
    "        print(i)"
   ]
  },
  {
   "cell_type": "code",
   "execution_count": 6,
   "id": "a92f60a8-d9dd-459c-b13a-862031d63bc2",
   "metadata": {},
   "outputs": [
    {
     "name": "stdout",
     "output_type": "stream",
     "text": [
      "praseeda\n",
      "bianca\n",
      "aditya\n",
      "sita\n"
     ]
    }
   ],
   "source": [
    "#⁠WAP that asks 10 user with their name and store them in a list. Print the name of only those users whose name ends with ‘a’ or ‘A’\n",
    "\n",
    "user_name=['praseeda','bianca','aayush','aditya','ram','sita']\n",
    "for i in user_name:\n",
    "    if(i[-1]=='A' or i[-1]=='a'):\n",
    "        print(i)"
   ]
  },
  {
   "cell_type": "code",
   "execution_count": null,
   "id": "4b972420-ec92-4229-82b5-668266ce463a",
   "metadata": {},
   "outputs": [],
   "source": []
  }
 ],
 "metadata": {
  "kernelspec": {
   "display_name": "Python 3 (ipykernel)",
   "language": "python",
   "name": "python3"
  },
  "language_info": {
   "codemirror_mode": {
    "name": "ipython",
    "version": 3
   },
   "file_extension": ".py",
   "mimetype": "text/x-python",
   "name": "python",
   "nbconvert_exporter": "python",
   "pygments_lexer": "ipython3",
   "version": "3.12.3"
  }
 },
 "nbformat": 4,
 "nbformat_minor": 5
}
